{
  "nbformat": 4,
  "nbformat_minor": 0,
  "metadata": {
    "colab": {
      "name": "Untitled2.ipynb",
      "provenance": [],
      "toc_visible": true,
      "authorship_tag": "ABX9TyP0F4o9j6/xHSof4EEY6FrI",
      "include_colab_link": true
    },
    "kernelspec": {
      "name": "python3",
      "display_name": "Python 3"
    },
    "language_info": {
      "name": "python"
    },
    "accelerator": "GPU"
  },
  "cells": [
    {
      "cell_type": "markdown",
      "metadata": {
        "id": "view-in-github",
        "colab_type": "text"
      },
      "source": [
        "<a href=\"https://colab.research.google.com/github/Pusse-01/Harry-Potter-invisible-cloak/blob/main/InvisibleCloak.ipynb\" target=\"_parent\"><img src=\"https://colab.research.google.com/assets/colab-badge.svg\" alt=\"Open In Colab\"/></a>"
      ]
    },
    {
      "cell_type": "code",
      "metadata": {
        "colab": {
          "base_uri": "https://localhost:8080/"
        },
        "id": "lzY9V2LrD2Kn",
        "outputId": "54eba16d-5288-4f16-d48c-10a6d5d77fd2"
      },
      "source": [
        "pip install opencv-python"
      ],
      "execution_count": 9,
      "outputs": [
        {
          "output_type": "stream",
          "name": "stdout",
          "text": [
            "Requirement already satisfied: opencv-python in /usr/local/lib/python3.7/dist-packages (4.1.2.30)\n",
            "Requirement already satisfied: numpy>=1.14.5 in /usr/local/lib/python3.7/dist-packages (from opencv-python) (1.19.5)\n"
          ]
        }
      ]
    },
    {
      "cell_type": "code",
      "metadata": {
        "id": "mNziQGXrBBRq"
      },
      "source": [
        "# Import Libraries\n",
        "import numpy as np\n",
        "import cv2\n",
        "import time\n",
        "import os\n",
        "import colorsys"
      ],
      "execution_count": 15,
      "outputs": []
    },
    {
      "cell_type": "code",
      "metadata": {
        "id": "NEHPAlFyBFMc"
      },
      "source": [
        "cap = cv2.VideoCapture(0)\n",
        "time.sleep(2)     \n",
        "background = 0"
      ],
      "execution_count": 11,
      "outputs": []
    },
    {
      "cell_type": "code",
      "metadata": {
        "id": "la0syH_BBTld"
      },
      "source": [
        "for i in range(50):\n",
        "    ret, background = cap.read()"
      ],
      "execution_count": 12,
      "outputs": []
    },
    {
      "cell_type": "code",
      "metadata": {
        "colab": {
          "base_uri": "https://localhost:8080/",
          "height": 212
        },
        "id": "ZlBIUYhOBXl9",
        "outputId": "e80ed4b5-e4ae-4b0d-a62d-4da04ccfd3e3"
      },
      "source": [
        "while(cap.isOpened()):  #Condition for this is when only the web cam is opened  it will only run the code else the code will not run in the background without the webbcam\n",
        "\n",
        "    ret, img = cap.read()\n",
        "    if not ret:\n",
        "        break\n",
        "    img = np.flip(img,axis=1)\n",
        "    hsv = cv2.cvtColor(img,cv2.COLOR_BGR2HSV)\n",
        "    #HSV values\n",
        "\n",
        "    #setting the values for the cloak\n",
        "    lower_red = np.array([0,120,70])\n",
        "    upper_red = np.array([10,255,255])\n",
        "\n",
        "    mask1 = cv2.inRange(hsv, lower_red,upper_red)\n",
        "\n",
        "    lower_red = np.array([170,120,70])\n",
        "    upper_red =  np.array([180,255,255])\n",
        "    mask2 = cv2.inRange(hsv,lower_red,upper_red)\n",
        "\n",
        "    mask1 = mask1 +mask2\n",
        "\n",
        "    mask1 = cv2.morphologyEx(mask1,cv2.MORPH_OPEN,np.ones((3,3),np.uint8), iterations = 2)\n",
        "    mask1 = cv2.morphologyEx(mask1, cv2.MORPH_DILATE,np.ones((3,3),np.uint8), iterations = 1)\n",
        "\n",
        "    mask2 =cv2.bitwise_not(mask1)\n",
        "\n",
        "    res1 = cv2.bitwise_and(background,background,mask=mask1)\n",
        "    res2 = cv2.bitwise_and(img,img,mask=mask2)\n",
        "    final_output = cv2.addWeighted(res1,1,res2,1,0)\n",
        "    cv2.imshow('Invisible Cloak',final_output)\n",
        "    k = cv2.waitKey(10)\n",
        "    if k==27:\n",
        "        break\n",
        "cap.release()\n",
        "Gcv2.destroyAllWindows()"
      ],
      "execution_count": 22,
      "outputs": [
        {
          "output_type": "error",
          "ename": "NameError",
          "evalue": "ignored",
          "traceback": [
            "\u001b[0;31m---------------------------------------------------------------------------\u001b[0m",
            "\u001b[0;31mNameError\u001b[0m                                 Traceback (most recent call last)",
            "\u001b[0;32m<ipython-input-22-9c1fea6c662e>\u001b[0m in \u001b[0;36m<module>\u001b[0;34m()\u001b[0m\n\u001b[1;32m     33\u001b[0m         \u001b[0;32mbreak\u001b[0m\u001b[0;34m\u001b[0m\u001b[0;34m\u001b[0m\u001b[0m\n\u001b[1;32m     34\u001b[0m \u001b[0mcap\u001b[0m\u001b[0;34m.\u001b[0m\u001b[0mrelease\u001b[0m\u001b[0;34m(\u001b[0m\u001b[0;34m)\u001b[0m\u001b[0;34m\u001b[0m\u001b[0;34m\u001b[0m\u001b[0m\n\u001b[0;32m---> 35\u001b[0;31m \u001b[0mGcv2\u001b[0m\u001b[0;34m.\u001b[0m\u001b[0mdestroyAllWindows\u001b[0m\u001b[0;34m(\u001b[0m\u001b[0;34m)\u001b[0m\u001b[0;34m\u001b[0m\u001b[0;34m\u001b[0m\u001b[0m\n\u001b[0m",
            "\u001b[0;31mNameError\u001b[0m: name 'Gcv2' is not defined"
          ]
        }
      ]
    }
  ]
}